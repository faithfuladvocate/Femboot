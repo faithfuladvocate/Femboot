{
 "cells": [
  {
   "cell_type": "code",
   "execution_count": 1,
   "metadata": {},
   "outputs": [],
   "source": [
    "# *gridSearchCV\n",
    "# *randomiseSearchCV"
   ]
  },
  {
   "cell_type": "code",
   "execution_count": 3,
   "metadata": {},
   "outputs": [],
   "source": [
    "from sklearn.datasets import load_breast_cancer"
   ]
  },
  {
   "cell_type": "code",
   "execution_count": 5,
   "metadata": {},
   "outputs": [],
   "source": [
    "cancer = load_breast_cancer()\n",
    "X = cancer.data\n",
    "y = cancer.target"
   ]
  },
  {
   "cell_type": "code",
   "execution_count": 6,
   "metadata": {},
   "outputs": [],
   "source": [
    "from sklearn.neighbors import KNeighborsClassifier"
   ]
  },
  {
   "cell_type": "code",
   "execution_count": 7,
   "metadata": {},
   "outputs": [],
   "source": [
    "knn = KNeighborsClassifier()"
   ]
  },
  {
   "cell_type": "code",
   "execution_count": 8,
   "metadata": {},
   "outputs": [],
   "source": [
    "from sklearn.model_selection import GridSearchCV"
   ]
  },
  {
   "cell_type": "code",
   "execution_count": 10,
   "metadata": {},
   "outputs": [
    {
     "data": {
      "text/plain": [
       "GridSearchCV(cv=5, estimator=KNeighborsClassifier(),\n",
       "             param_grid={'n_neighbors': [2, 3, 4, 5, 6], 'p': [2, 1, 4, 6]})"
      ]
     },
     "execution_count": 10,
     "metadata": {},
     "output_type": "execute_result"
    }
   ],
   "source": [
    "GridSearchCV(knn, param_grid={'p':[2,1,4,6], 'n_neighbors':[2,3,4,5,6]}, cv=5)"
   ]
  },
  {
   "cell_type": "code",
   "execution_count": 11,
   "metadata": {},
   "outputs": [],
   "source": [
    "model = GridSearchCV(knn, param_grid={'p':[2,1,4,6], 'n_neighbors':[2,3,4,5,6]}, cv=5)"
   ]
  },
  {
   "cell_type": "code",
   "execution_count": 13,
   "metadata": {},
   "outputs": [
    {
     "data": {
      "text/plain": [
       "GridSearchCV(cv=5, estimator=KNeighborsClassifier(),\n",
       "             param_grid={'n_neighbors': [2, 3, 4, 5, 6], 'p': [2, 1, 4, 6]})"
      ]
     },
     "execution_count": 13,
     "metadata": {},
     "output_type": "execute_result"
    }
   ],
   "source": [
    "model.fit(X,y)"
   ]
  },
  {
   "cell_type": "code",
   "execution_count": 14,
   "metadata": {},
   "outputs": [
    {
     "data": {
      "text/plain": [
       "0.9525483304042179"
      ]
     },
     "execution_count": 14,
     "metadata": {},
     "output_type": "execute_result"
    }
   ],
   "source": [
    "model.score(X,y)"
   ]
  },
  {
   "cell_type": "code",
   "execution_count": 15,
   "metadata": {},
   "outputs": [
    {
     "data": {
      "text/plain": [
       "{'cv': 5,\n",
       " 'error_score': nan,\n",
       " 'estimator__algorithm': 'auto',\n",
       " 'estimator__leaf_size': 30,\n",
       " 'estimator__metric': 'minkowski',\n",
       " 'estimator__metric_params': None,\n",
       " 'estimator__n_jobs': None,\n",
       " 'estimator__n_neighbors': 5,\n",
       " 'estimator__p': 2,\n",
       " 'estimator__weights': 'uniform',\n",
       " 'estimator': KNeighborsClassifier(),\n",
       " 'iid': 'deprecated',\n",
       " 'n_jobs': None,\n",
       " 'param_grid': {'p': [2, 1, 4, 6], 'n_neighbors': [2, 3, 4, 5, 6]},\n",
       " 'pre_dispatch': '2*n_jobs',\n",
       " 'refit': True,\n",
       " 'return_train_score': False,\n",
       " 'scoring': None,\n",
       " 'verbose': 0}"
      ]
     },
     "execution_count": 15,
     "metadata": {},
     "output_type": "execute_result"
    }
   ],
   "source": [
    "model.get_params()"
   ]
  },
  {
   "cell_type": "code",
   "execution_count": 16,
   "metadata": {},
   "outputs": [
    {
     "data": {
      "text/plain": [
       "{'mean_fit_time': array([0.00419927, 0.00183806, 0.00314999, 0.00309749, 0.00312605,\n",
       "        0.        , 0.00625038, 0.00120044, 0.00312538, 0.        ,\n",
       "        0.0031251 , 0.00312576, 0.00625043, 0.        , 0.00219903,\n",
       "        0.00312524, 0.00159879, 0.00312653, 0.00625114, 0.00625119]),\n",
       " 'std_fit_time': array([0.00146874, 0.00160651, 0.00629997, 0.00619497, 0.0062521 ,\n",
       "        0.        , 0.00765512, 0.00147023, 0.00625076, 0.        ,\n",
       "        0.00625019, 0.00625153, 0.00765518, 0.        , 0.00183286,\n",
       "        0.00625048, 0.00149703, 0.00625305, 0.00765606, 0.00765612]),\n",
       " 'mean_score_time': array([0.01164761, 0.00674911, 0.0156281 , 0.01562557, 0.00624995,\n",
       "        0.00937643, 0.01562543, 0.01721215, 0.00625038, 0.00937586,\n",
       "        0.01562505, 0.0156261 , 0.00625024, 0.00625076, 0.01971483,\n",
       "        0.01562748, 0.00912437, 0.00624952, 0.01562486, 0.01562638]),\n",
       " 'std_score_time': array([2.48388016e-03, 6.00988184e-03, 8.03438775e-06, 2.10349512e-06,\n",
       "        7.65459750e-03, 7.65582366e-03, 2.31352033e-06, 8.47986888e-03,\n",
       "        7.65512270e-03, 7.65535655e-03, 2.95639038e-06, 2.28981155e-06,\n",
       "        7.65494753e-03, 7.65559007e-03, 4.82821852e-03, 3.16513572e-06,\n",
       "        9.03645678e-03, 7.65407154e-03, 2.81131801e-06, 3.20369282e-06]),\n",
       " 'param_n_neighbors': masked_array(data=[2, 2, 2, 2, 3, 3, 3, 3, 4, 4, 4, 4, 5, 5, 5, 5, 6, 6,\n",
       "                    6, 6],\n",
       "              mask=[False, False, False, False, False, False, False, False,\n",
       "                    False, False, False, False, False, False, False, False,\n",
       "                    False, False, False, False],\n",
       "        fill_value='?',\n",
       "             dtype=object),\n",
       " 'param_p': masked_array(data=[2, 1, 4, 6, 2, 1, 4, 6, 2, 1, 4, 6, 2, 1, 4, 6, 2, 1,\n",
       "                    4, 6],\n",
       "              mask=[False, False, False, False, False, False, False, False,\n",
       "                    False, False, False, False, False, False, False, False,\n",
       "                    False, False, False, False],\n",
       "        fill_value='?',\n",
       "             dtype=object),\n",
       " 'params': [{'n_neighbors': 2, 'p': 2},\n",
       "  {'n_neighbors': 2, 'p': 1},\n",
       "  {'n_neighbors': 2, 'p': 4},\n",
       "  {'n_neighbors': 2, 'p': 6},\n",
       "  {'n_neighbors': 3, 'p': 2},\n",
       "  {'n_neighbors': 3, 'p': 1},\n",
       "  {'n_neighbors': 3, 'p': 4},\n",
       "  {'n_neighbors': 3, 'p': 6},\n",
       "  {'n_neighbors': 4, 'p': 2},\n",
       "  {'n_neighbors': 4, 'p': 1},\n",
       "  {'n_neighbors': 4, 'p': 4},\n",
       "  {'n_neighbors': 4, 'p': 6},\n",
       "  {'n_neighbors': 5, 'p': 2},\n",
       "  {'n_neighbors': 5, 'p': 1},\n",
       "  {'n_neighbors': 5, 'p': 4},\n",
       "  {'n_neighbors': 5, 'p': 6},\n",
       "  {'n_neighbors': 6, 'p': 2},\n",
       "  {'n_neighbors': 6, 'p': 1},\n",
       "  {'n_neighbors': 6, 'p': 4},\n",
       "  {'n_neighbors': 6, 'p': 6}],\n",
       " 'split0_test_score': array([0.89473684, 0.89473684, 0.86842105, 0.86842105, 0.87719298,\n",
       "        0.89473684, 0.88596491, 0.88596491, 0.89473684, 0.90350877,\n",
       "        0.88596491, 0.87719298, 0.88596491, 0.89473684, 0.86842105,\n",
       "        0.86842105, 0.89473684, 0.88596491, 0.88596491, 0.88596491]),\n",
       " 'split1_test_score': array([0.9122807 , 0.93859649, 0.9122807 , 0.9122807 , 0.92105263,\n",
       "        0.92982456, 0.92105263, 0.92105263, 0.92105263, 0.92105263,\n",
       "        0.92105263, 0.92105263, 0.93859649, 0.92982456, 0.93859649,\n",
       "        0.93859649, 0.93859649, 0.92982456, 0.93859649, 0.93859649]),\n",
       " 'split2_test_score': array([0.92982456, 0.93859649, 0.92982456, 0.92982456, 0.94736842,\n",
       "        0.95614035, 0.92982456, 0.92982456, 0.94736842, 0.95614035,\n",
       "        0.93859649, 0.93859649, 0.93859649, 0.95614035, 0.93859649,\n",
       "        0.93859649, 0.93859649, 0.97368421, 0.93859649, 0.93859649]),\n",
       " 'split3_test_score': array([0.89473684, 0.90350877, 0.88596491, 0.88596491, 0.93859649,\n",
       "        0.93859649, 0.92105263, 0.92105263, 0.93859649, 0.94736842,\n",
       "        0.92982456, 0.92105263, 0.94736842, 0.94736842, 0.94736842,\n",
       "        0.94736842, 0.92982456, 0.95614035, 0.93859649, 0.93859649]),\n",
       " 'split4_test_score': array([0.89380531, 0.89380531, 0.88495575, 0.88495575, 0.91150442,\n",
       "        0.92035398, 0.89380531, 0.89380531, 0.90265487, 0.92920354,\n",
       "        0.90265487, 0.90265487, 0.92920354, 0.92920354, 0.91150442,\n",
       "        0.92035398, 0.92035398, 0.9380531 , 0.92035398, 0.92035398]),\n",
       " 'mean_test_score': array([0.90507685, 0.91384878, 0.8962894 , 0.8962894 , 0.91914299,\n",
       "        0.92793045, 0.91034001, 0.91034001, 0.92088185, 0.93145474,\n",
       "        0.91561869, 0.91210992, 0.92794597, 0.93145474, 0.92089738,\n",
       "        0.92266729, 0.92442167, 0.93673343, 0.92442167, 0.92442167]),\n",
       " 'std_test_score': array([0.01417903, 0.02048815, 0.02187245, 0.02187245, 0.02448228,\n",
       "        0.02035863, 0.01718552, 0.01718552, 0.0201552 , 0.01874499,\n",
       "        0.01900906, 0.02083302, 0.02176276, 0.02106444, 0.02887638,\n",
       "        0.02851537, 0.01630201, 0.02955979, 0.02048534, 0.02048534]),\n",
       " 'rank_test_score': array([18, 14, 19, 19, 12,  5, 16, 16, 11,  2, 13, 15,  4,  2, 10,  9,  6,\n",
       "         1,  6,  6])}"
      ]
     },
     "execution_count": 16,
     "metadata": {},
     "output_type": "execute_result"
    }
   ],
   "source": [
    "model.cv_results_"
   ]
  },
  {
   "cell_type": "code",
   "execution_count": 17,
   "metadata": {},
   "outputs": [
    {
     "data": {
      "text/plain": [
       "0.9209138840070299"
      ]
     },
     "execution_count": 17,
     "metadata": {},
     "output_type": "execute_result"
    }
   ],
   "source": [
    "model = GridSearchCV(knn, param_grid={'p':range(1,21), 'n_neighbors':(1,41)}, cv=5)\n",
    "model.fit(X,y)\n",
    "model.score(X,y)"
   ]
  },
  {
   "cell_type": "code",
   "execution_count": 20,
   "metadata": {},
   "outputs": [
    {
     "data": {
      "text/plain": [
       "{'n_neighbors': 41, 'p': 2}"
      ]
     },
     "execution_count": 20,
     "metadata": {},
     "output_type": "execute_result"
    }
   ],
   "source": [
    "model.best_params_"
   ]
  },
  {
   "cell_type": "code",
   "execution_count": null,
   "metadata": {},
   "outputs": [],
   "source": []
  }
 ],
 "metadata": {
  "kernelspec": {
   "display_name": "Python 3",
   "language": "python",
   "name": "python3"
  },
  "language_info": {
   "codemirror_mode": {
    "name": "ipython",
    "version": 3
   },
   "file_extension": ".py",
   "mimetype": "text/x-python",
   "name": "python",
   "nbconvert_exporter": "python",
   "pygments_lexer": "ipython3",
   "version": "3.8.5"
  }
 },
 "nbformat": 4,
 "nbformat_minor": 4
}
