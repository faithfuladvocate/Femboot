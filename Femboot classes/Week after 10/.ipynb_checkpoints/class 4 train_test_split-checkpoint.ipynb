{
 "cells": [
  {
   "cell_type": "code",
   "execution_count": 1,
   "metadata": {},
   "outputs": [],
   "source": [
    "import pandas as pd"
   ]
  },
  {
   "cell_type": "code",
   "execution_count": 2,
   "metadata": {},
   "outputs": [],
   "source": [
    "df = pd.read_csv('titanic.csv')"
   ]
  },
  {
   "cell_type": "code",
   "execution_count": 3,
   "metadata": {},
   "outputs": [],
   "source": [
    "X = df.loc[:, ['age', 'fare']]\n",
    "y = df['survived']"
   ]
  },
  {
   "cell_type": "code",
   "execution_count": 4,
   "metadata": {},
   "outputs": [
    {
     "data": {
      "text/plain": [
       "age     174\n",
       "fare      1\n",
       "dtype: int64"
      ]
     },
     "execution_count": 4,
     "metadata": {},
     "output_type": "execute_result"
    }
   ],
   "source": [
    "X.isna().sum()"
   ]
  },
  {
   "cell_type": "code",
   "execution_count": 5,
   "metadata": {},
   "outputs": [
    {
     "data": {
      "text/plain": [
       "29.519847189349115"
      ]
     },
     "execution_count": 5,
     "metadata": {},
     "output_type": "execute_result"
    }
   ],
   "source": [
    "X.age.mean()"
   ]
  },
  {
   "cell_type": "code",
   "execution_count": 6,
   "metadata": {},
   "outputs": [],
   "source": [
    "X.fillna(value = X.age.mean(), inplace=True) #fill missing value with mean"
   ]
  },
  {
   "cell_type": "code",
   "execution_count": 7,
   "metadata": {},
   "outputs": [
    {
     "data": {
      "text/plain": [
       "age     0\n",
       "fare    0\n",
       "dtype: int64"
      ]
     },
     "execution_count": 7,
     "metadata": {},
     "output_type": "execute_result"
    }
   ],
   "source": [
    "X.isna().sum()"
   ]
  },
  {
   "cell_type": "code",
   "execution_count": 8,
   "metadata": {},
   "outputs": [],
   "source": [
    "from sklearn.neighbors import KNeighborsClassifier\n",
    "knn1 = KNeighborsClassifier()"
   ]
  },
  {
   "cell_type": "code",
   "execution_count": 9,
   "metadata": {},
   "outputs": [],
   "source": [
    "from sklearn.model_selection import train_test_split"
   ]
  },
  {
   "cell_type": "code",
   "execution_count": 10,
   "metadata": {},
   "outputs": [
    {
     "data": {
      "text/plain": [
       "[           age     fare\n",
       " 772  27.000000  53.1000\n",
       " 137  28.000000  13.0000\n",
       " 445  55.500000   8.0500\n",
       " 49   57.000000  13.0000\n",
       " 741  29.519847   6.4375\n",
       " ..         ...      ...\n",
       " 638  29.519847   8.1125\n",
       " 538  45.000000  13.5000\n",
       " 205  29.519847   7.7500\n",
       " 283   5.000000  31.3875\n",
       " 249  29.519847   7.7500\n",
       " \n",
       " [637 rows x 2 columns],\n",
       "            age      fare\n",
       " 300  30.000000    8.0500\n",
       " 132  55.000000   27.7208\n",
       " 131  11.000000   46.9000\n",
       " 483  27.000000   12.4750\n",
       " 152  29.519847    7.7750\n",
       " ..         ...       ...\n",
       " 654  18.000000   11.5000\n",
       " 143  51.000000   26.5500\n",
       " 420   9.000000   15.9000\n",
       " 57   46.000000   79.2000\n",
       " 665  36.000000  135.6333\n",
       " \n",
       " [213 rows x 2 columns],\n",
       " 772    1\n",
       " 137    1\n",
       " 445    0\n",
       " 49     0\n",
       " 741    0\n",
       "       ..\n",
       " 638    1\n",
       " 538    1\n",
       " 205    0\n",
       " 283    1\n",
       " 249    1\n",
       " Name: survived, Length: 637, dtype: int64,\n",
       " 300    0\n",
       " 132    1\n",
       " 131    0\n",
       " 483    1\n",
       " 152    0\n",
       "       ..\n",
       " 654    0\n",
       " 143    1\n",
       " 420    1\n",
       " 57     0\n",
       " 665    1\n",
       " Name: survived, Length: 213, dtype: int64]"
      ]
     },
     "execution_count": 10,
     "metadata": {},
     "output_type": "execute_result"
    }
   ],
   "source": [
    "train_test_split(X,y)"
   ]
  },
  {
   "cell_type": "markdown",
   "metadata": {},
   "source": [
    "## unpacking"
   ]
  },
  {
   "cell_type": "code",
   "execution_count": 11,
   "metadata": {},
   "outputs": [],
   "source": [
    "a,b,c,d = (2,4,6,8) #unpacking"
   ]
  },
  {
   "cell_type": "code",
   "execution_count": 12,
   "metadata": {},
   "outputs": [
    {
     "data": {
      "text/plain": [
       "2"
      ]
     },
     "execution_count": 12,
     "metadata": {},
     "output_type": "execute_result"
    }
   ],
   "source": [
    "a"
   ]
  },
  {
   "cell_type": "code",
   "execution_count": 13,
   "metadata": {},
   "outputs": [],
   "source": [
    "# X1, X2, y1, y2 = train_test_split(X,y)  #splits in 75, 25"
   ]
  },
  {
   "cell_type": "code",
   "execution_count": 14,
   "metadata": {},
   "outputs": [],
   "source": [
    "X_train, X_test, y_train, y_test = train_test_split(X,y) #X_train & y_train are split to 75%, X_test & y_test are 25%"
   ]
  },
  {
   "cell_type": "code",
   "execution_count": 15,
   "metadata": {},
   "outputs": [
    {
     "data": {
      "text/plain": [
       "(637, 2)"
      ]
     },
     "execution_count": 15,
     "metadata": {},
     "output_type": "execute_result"
    }
   ],
   "source": [
    "X_train.shape #75% of total"
   ]
  },
  {
   "cell_type": "code",
   "execution_count": 16,
   "metadata": {},
   "outputs": [
    {
     "data": {
      "text/plain": [
       "(213, 2)"
      ]
     },
     "execution_count": 16,
     "metadata": {},
     "output_type": "execute_result"
    }
   ],
   "source": [
    "X_test.shape #25% of total"
   ]
  },
  {
   "cell_type": "code",
   "execution_count": 17,
   "metadata": {},
   "outputs": [],
   "source": [
    "X_train,X_test,y_train,y_test = train_test_split(X,y,test_size = 0.3) #test size(30%) changes the ratio to 70:30, train size=70%"
   ]
  },
  {
   "cell_type": "code",
   "execution_count": 18,
   "metadata": {},
   "outputs": [
    {
     "data": {
      "text/plain": [
       "(595, 2)"
      ]
     },
     "execution_count": 18,
     "metadata": {},
     "output_type": "execute_result"
    }
   ],
   "source": [
    "X_train.shape"
   ]
  },
  {
   "cell_type": "code",
   "execution_count": 19,
   "metadata": {},
   "outputs": [
    {
     "data": {
      "text/plain": [
       "KNeighborsClassifier()"
      ]
     },
     "execution_count": 19,
     "metadata": {},
     "output_type": "execute_result"
    }
   ],
   "source": [
    "## train the model\n",
    "knn1.fit(X_train, y_train)"
   ]
  },
  {
   "cell_type": "code",
   "execution_count": 20,
   "metadata": {},
   "outputs": [
    {
     "data": {
      "text/plain": [
       "0.788235294117647"
      ]
     },
     "execution_count": 20,
     "metadata": {},
     "output_type": "execute_result"
    }
   ],
   "source": [
    "knn1.score(X_train, y_train) # training accuracy - not accurate enough"
   ]
  },
  {
   "cell_type": "code",
   "execution_count": 21,
   "metadata": {},
   "outputs": [
    {
     "data": {
      "text/plain": [
       "0.6313725490196078"
      ]
     },
     "execution_count": 21,
     "metadata": {},
     "output_type": "execute_result"
    }
   ],
   "source": [
    "knn1.score(X_test, y_test) #testing accuracy - yeah!"
   ]
  },
  {
   "cell_type": "code",
   "execution_count": 22,
   "metadata": {},
   "outputs": [],
   "source": [
    "X_train,X_test,y_train,y_test = train_test_split(X, y, test_size = 0.3, random_state = 23)"
   ]
  },
  {
   "cell_type": "code",
   "execution_count": 23,
   "metadata": {},
   "outputs": [
    {
     "data": {
      "text/plain": [
       "0.7747899159663866"
      ]
     },
     "execution_count": 23,
     "metadata": {},
     "output_type": "execute_result"
    }
   ],
   "source": [
    "knn1.fit(X_train, y_train)\n",
    "knn1.score(X_train,y_train)"
   ]
  },
  {
   "cell_type": "code",
   "execution_count": 24,
   "metadata": {},
   "outputs": [
    {
     "data": {
      "text/plain": [
       "0.6431372549019608"
      ]
     },
     "execution_count": 24,
     "metadata": {},
     "output_type": "execute_result"
    }
   ],
   "source": [
    "knn1.score(X_test, y_test)"
   ]
  },
  {
   "cell_type": "code",
   "execution_count": 25,
   "metadata": {},
   "outputs": [
    {
     "name": "stdout",
     "output_type": "stream",
     "text": [
      "0.7680672268907563\n",
      "0.6745098039215687\n",
      "\n",
      "0.7714285714285715\n",
      "0.6588235294117647\n",
      "\n",
      "0.761344537815126\n",
      "0.6549019607843137\n",
      "\n",
      "0.7663865546218488\n",
      "0.6352941176470588\n",
      "\n",
      "0.7445378151260504\n",
      "0.6745098039215687\n",
      "\n",
      "0.7680672268907563\n",
      "0.6627450980392157\n",
      "\n",
      "0.7697478991596639\n",
      "0.6784313725490196\n",
      "\n",
      "0.7546218487394958\n",
      "0.6588235294117647\n",
      "\n",
      "0.7596638655462185\n",
      "0.6627450980392157\n",
      "\n",
      "0.7663865546218488\n",
      "0.6705882352941176\n",
      "\n"
     ]
    }
   ],
   "source": [
    "for i in range (10):\n",
    "    X_train,X_test,y_train,y_test = train_test_split(X, y, test_size = 0.3, random_state = i)\n",
    "    knn1.fit(X_train, y_train)\n",
    "    print(knn1.score(X_train,y_train))\n",
    "    print(knn1.score(X_test, y_test))\n",
    "    print()"
   ]
  },
  {
   "cell_type": "code",
   "execution_count": 27,
   "metadata": {},
   "outputs": [
    {
     "name": "stdout",
     "output_type": "stream",
     "text": [
      "[0.6745098039215687, 0.6588235294117647, 0.6549019607843137, 0.6352941176470588, 0.6745098039215687, 0.6627450980392157, 0.6784313725490196, 0.6588235294117647, 0.6627450980392157, 0.6705882352941176]\n",
      "[0.7680672268907563, 0.7714285714285715, 0.761344537815126, 0.7663865546218488, 0.7445378151260504, 0.7680672268907563, 0.7697478991596639, 0.7546218487394958, 0.7596638655462185, 0.7663865546218488]\n"
     ]
    }
   ],
   "source": [
    "test = []\n",
    "train = []\n",
    "for i in range (10):\n",
    "    X_train,X_test,y_train,y_test = train_test_split(X, y, test_size = 0.3, random_state = i)\n",
    "    knn1.fit(X_train, y_train)\n",
    "    test.append(knn1.score(X_train,y_train))\n",
    "    train.append(knn1.score(X_test, y_test))\n",
    "print(train)\n",
    "print(test)"
   ]
  },
  {
   "cell_type": "code",
   "execution_count": 29,
   "metadata": {},
   "outputs": [
    {
     "name": "stdout",
     "output_type": "stream",
     "text": [
      "0.7630252100840336\n",
      "0.6631372549019608\n"
     ]
    }
   ],
   "source": [
    "test = []\n",
    "train = []\n",
    "for i in range (10):\n",
    "    X_train,X_test,y_train,y_test = train_test_split(X, y, test_size = 0.3, random_state = i)\n",
    "    knn1.fit(X_train, y_train)\n",
    "    train.append(knn1.score(X_train,y_train))\n",
    "    test.append(knn1.score(X_test, y_test))\n",
    "    \n",
    "print(sum(train)/len(train)) #average of train accuracy\n",
    "print(sum(test)/len(test)) #average of test accuracy"
   ]
  },
  {
   "cell_type": "markdown",
   "metadata": {},
   "source": [
    "## k fold cross validation"
   ]
  },
  {
   "cell_type": "code",
   "execution_count": null,
   "metadata": {},
   "outputs": [],
   "source": []
  }
 ],
 "metadata": {
  "kernelspec": {
   "display_name": "Python 3",
   "language": "python",
   "name": "python3"
  },
  "language_info": {
   "codemirror_mode": {
    "name": "ipython",
    "version": 3
   },
   "file_extension": ".py",
   "mimetype": "text/x-python",
   "name": "python",
   "nbconvert_exporter": "python",
   "pygments_lexer": "ipython3",
   "version": "3.8.5"
  }
 },
 "nbformat": 4,
 "nbformat_minor": 4
}
