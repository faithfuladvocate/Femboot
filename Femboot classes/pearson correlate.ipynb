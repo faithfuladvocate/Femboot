{
 "cells": [
  {
   "cell_type": "markdown",
   "metadata": {},
   "source": [
    "pearson's correlation: nExy - ExEy / root (nEx2 - (Ex2)) (nEy2 - (Ey)2) \n",
    "\n",
    "y= B0 + B1x + E(stochostic/random error) ------simple linear regression\n",
    "B1 = nExy - ExEy / nEx3 - (Ex)2\n",
    "B0 = mean of y - B1(mean n of x)\n",
    "\n",
    "eg.\n",
    "price = B0 + B1(size)\n",
    "y = B0 + B1location + Bc2rime + Bs4quare land area + B4electricity  -------"
   ]
  },
  {
   "cell_type": "code",
   "execution_count": 3,
   "metadata": {},
   "outputs": [],
   "source": [
    "def numerator(x , y):\n",
    "    sum_x=(sum(x))\n",
    "    sum_y=(sum(y))\n",
    "    n=len(x)\n",
    "    sum_xy=0\n",
    "    for i in range(n):\n",
    "        print(x[i] * y[i])"
   ]
  },
  {
   "cell_type": "code",
   "execution_count": 4,
   "metadata": {},
   "outputs": [
    {
     "name": "stdout",
     "output_type": "stream",
     "text": [
      "8\n",
      "15\n",
      "2\n"
     ]
    }
   ],
   "source": [
    "numerator([4,3,1] , [2,5,2])"
   ]
  },
  {
   "cell_type": "code",
   "execution_count": 5,
   "metadata": {},
   "outputs": [],
   "source": [
    "def numerator(x , y):\n",
    "    sum_x=(sum(x))\n",
    "    sum_y=(sum(y))\n",
    "    n=len(x)\n",
    "    sum_xy=0\n",
    "    for i in range(n):\n",
    "        sum_xy += x[i] * y[i]\n",
    "    print(sum_xy)"
   ]
  },
  {
   "cell_type": "code",
   "execution_count": 6,
   "metadata": {},
   "outputs": [
    {
     "name": "stdout",
     "output_type": "stream",
     "text": [
      "25\n"
     ]
    }
   ],
   "source": [
    "numerator([4,3,1] , [2,5,2])"
   ]
  },
  {
   "cell_type": "code",
   "execution_count": 9,
   "metadata": {},
   "outputs": [],
   "source": [
    "def total_numerator(x , y):\n",
    "    sum_x=sum(x)\n",
    "    sum_y=sum(y)\n",
    "    n=len(x)\n",
    "    sum_xy=0\n",
    "    for i in range(n):\n",
    "        sum_xy += x[i] * y[i]\n",
    "    return (n*sum_xy - sum_x * sum_y)"
   ]
  },
  {
   "cell_type": "code",
   "execution_count": 10,
   "metadata": {},
   "outputs": [
    {
     "data": {
      "text/plain": [
       "3"
      ]
     },
     "execution_count": 10,
     "metadata": {},
     "output_type": "execute_result"
    }
   ],
   "source": [
    "total_numerator([4,3,1] , [2,5,2])"
   ]
  },
  {
   "cell_type": "code",
   "execution_count": 11,
   "metadata": {},
   "outputs": [],
   "source": [
    "#nEx2 -(Ex)2 * nEy2 - (Ey)2\n",
    "def denominator(x , y):\n",
    "    sum_x=(sum(x))\n",
    "    sum_y=(sum(y))\n",
    "    n=len(x)\n",
    "    sum_y_sq=0\n",
    "    sum_x_sq=0\n",
    "    for i in range(n):\n",
    "        sum_x_sq = sum_x_sq + x[i]**2   #or sum_x_sq += x[i]**2 \n",
    "        sum_y_sq = sum_y_sq + y[i]**2   #or sum_y_sq += y[i]**2 \n",
    "    print (sum_x_sq)\n",
    "    print (sum_y_sq)"
   ]
  },
  {
   "cell_type": "code",
   "execution_count": 13,
   "metadata": {},
   "outputs": [
    {
     "name": "stdout",
     "output_type": "stream",
     "text": [
      "26\n",
      "33\n"
     ]
    }
   ],
   "source": [
    "denominator([4,3,1] , [2,5,2])"
   ]
  },
  {
   "cell_type": "code",
   "execution_count": 15,
   "metadata": {},
   "outputs": [],
   "source": [
    "#nEx2 -(Ex)2 * nEy2 - (Ey)2\n",
    "def total_denominator(x , y):\n",
    "    sum_x=(sum(x))\n",
    "    sum_y=(sum(y))\n",
    "    n=len(x)\n",
    "    sum_y_sq=0\n",
    "    sum_x_sq=0\n",
    "    for i in range(n):\n",
    "        sum_x_sq = sum_x_sq + x[i]**2   #or sum_x_sq += x[i]**2 \n",
    "        sum_y_sq = sum_y_sq + y[i]**2   #or sum_y_sq += y[i]**2 \n",
    "    return ((n * sum_x_sq - (sum_x)**2) * (n * sum_y_sq - (sum_y)**2))**0.5"
   ]
  },
  {
   "cell_type": "code",
   "execution_count": 16,
   "metadata": {},
   "outputs": [
    {
     "data": {
      "text/plain": [
       "15.874507866387544"
      ]
     },
     "execution_count": 16,
     "metadata": {},
     "output_type": "execute_result"
    }
   ],
   "source": [
    "total_denominator([4,3,1] , [2,5,2])"
   ]
  },
  {
   "cell_type": "code",
   "execution_count": 21,
   "metadata": {},
   "outputs": [
    {
     "data": {
      "text/plain": [
       "0.1889822365046136"
      ]
     },
     "execution_count": 21,
     "metadata": {},
     "output_type": "execute_result"
    }
   ],
   "source": [
    "total_numerator([4,3,1] , [2,5,2]) / total_denominator([4,3,1] , [2,5,2])"
   ]
  },
  {
   "cell_type": "code",
   "execution_count": 22,
   "metadata": {},
   "outputs": [],
   "source": [
    "def num_den(x, y):\n",
    "    corr= total_numerator(x,y) / total_denominator(x,y)\n",
    "    return corr"
   ]
  },
  {
   "cell_type": "code",
   "execution_count": 24,
   "metadata": {},
   "outputs": [
    {
     "data": {
      "text/plain": [
       "0.1889822365046136"
      ]
     },
     "execution_count": 24,
     "metadata": {},
     "output_type": "execute_result"
    }
   ],
   "source": [
    "num_den([4,3,1] , [2,5,2])"
   ]
  },
  {
   "cell_type": "code",
   "execution_count": 25,
   "metadata": {},
   "outputs": [
    {
     "data": {
      "text/plain": [
       "0.9140141618451363"
      ]
     },
     "execution_count": 25,
     "metadata": {},
     "output_type": "execute_result"
    }
   ],
   "source": [
    "num_den([4,3,1,12] , [2,5,2,10])"
   ]
  },
  {
   "cell_type": "code",
   "execution_count": null,
   "metadata": {},
   "outputs": [],
   "source": []
  }
 ],
 "metadata": {
  "kernelspec": {
   "display_name": "Python 3",
   "language": "python",
   "name": "python3"
  },
  "language_info": {
   "codemirror_mode": {
    "name": "ipython",
    "version": 3
   },
   "file_extension": ".py",
   "mimetype": "text/x-python",
   "name": "python",
   "nbconvert_exporter": "python",
   "pygments_lexer": "ipython3",
   "version": "3.8.5"
  }
 },
 "nbformat": 4,
 "nbformat_minor": 4
}
