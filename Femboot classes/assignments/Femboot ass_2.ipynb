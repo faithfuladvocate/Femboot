{
 "cells": [
  {
   "cell_type": "code",
   "execution_count": 68,
   "metadata": {},
   "outputs": [
    {
     "name": "stdout",
     "output_type": "stream",
     "text": [
      "Enter the age of person A: 78\n",
      "Enter the age of person B: 65\n",
      "65\n"
     ]
    }
   ],
   "source": [
    "#Q1\n",
    "age_one= input('Enter the age of person A: ')\n",
    "age_two= input('Enter the age of person B: ')\n",
    "if age_one < age_two:\n",
    "    print(age_one)\n",
    "else:\n",
    "    print(age_two)"
   ]
  },
  {
   "cell_type": "code",
   "execution_count": 63,
   "metadata": {},
   "outputs": [
    {
     "name": "stdout",
     "output_type": "stream",
     "text": [
      "Enter the name of person A: faith\n",
      "Enter the name of person B: faithful\n",
      "True\n"
     ]
    }
   ],
   "source": [
    "#Q2\n",
    "name1= str(input('Enter the name of person A: '))\n",
    "name2= str(input('Enter the name of person B: '))\n",
    "if len(name1) >=5 and len(name2)>=5:\n",
    "    print(True)\n",
    "else:\n",
    "    print(False)"
   ]
  },
  {
   "cell_type": "code",
   "execution_count": 67,
   "metadata": {},
   "outputs": [
    {
     "name": "stdout",
     "output_type": "stream",
     "text": [
      "Enter first number: 2\n",
      "Enter second number: 3\n",
      "Enter third number: 4\n",
      "Enter fourth number: 5\n",
      "The average of 2, 3, 4, and 5 is 10.25\n"
     ]
    }
   ],
   "source": [
    "#Q3\n",
    "one=int(input('Enter first number: '))\n",
    "two=int(input('Enter second number: '))\n",
    "three=int(input('Enter third number: '))\n",
    "four=int(input('Enter fourth number: '))\n",
    "avr= one + two + three + four /4\n",
    "print(f'The average of {one}, {two}, {three}, and {four} is {avr}')"
   ]
  },
  {
   "cell_type": "code",
   "execution_count": 73,
   "metadata": {},
   "outputs": [
    {
     "name": "stdout",
     "output_type": "stream",
     "text": [
      "Enter your password please: password\n",
      "Moderate\n"
     ]
    }
   ],
   "source": [
    "#Q4\n",
    "password= input('Enter your password please: ')\n",
    "if len(password) >=15:\n",
    "    print('Strong')\n",
    "elif len(password) >=8:\n",
    "    print('Moderate')\n",
    "else:\n",
    "    print('Weak')"
   ]
  },
  {
   "cell_type": "code",
   "execution_count": null,
   "metadata": {},
   "outputs": [],
   "source": []
  }
 ],
 "metadata": {
  "kernelspec": {
   "display_name": "Python 3",
   "language": "python",
   "name": "python3"
  },
  "language_info": {
   "codemirror_mode": {
    "name": "ipython",
    "version": 3
   },
   "file_extension": ".py",
   "mimetype": "text/x-python",
   "name": "python",
   "nbconvert_exporter": "python",
   "pygments_lexer": "ipython3",
   "version": "3.8.5"
  }
 },
 "nbformat": 4,
 "nbformat_minor": 4
}
