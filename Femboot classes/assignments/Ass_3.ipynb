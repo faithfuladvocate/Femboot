{
 "cells": [
  {
   "cell_type": "code",
   "execution_count": 2,
   "metadata": {},
   "outputs": [
    {
     "name": "stdout",
     "output_type": "stream",
     "text": [
      "Enter length of side a: 3\n",
      "Enter length of side b: 4\n",
      "The hypotheneuse is 5.0\n"
     ]
    }
   ],
   "source": [
    "#Q81\n",
    "from math import sqrt\n",
    "a = int(input ('Enter length of side a: '))\n",
    "b = int(input ('Enter length of side b: '))\n",
    "c = sqrt(a*a + b*b)\n",
    "print(f'The hypotheneuse is {c}')"
   ]
  },
  {
   "cell_type": "code",
   "execution_count": 3,
   "metadata": {},
   "outputs": [
    {
     "name": "stdout",
     "output_type": "stream",
     "text": [
      "Enter distance traveled:(in kilometers) 34\n",
      "Total fare is 0.060714285714285714\n"
     ]
    }
   ],
   "source": [
    "#Q82\n",
    "#$0.25 = 140 meters \n",
    "dis = int(input ('Enter distance traveled:(in kilometers) '))\n",
    "pay = dis * 0.25 / 140\n",
    "print(f'Total fare is {pay}')"
   ]
  }
 ],
 "metadata": {
  "kernelspec": {
   "display_name": "Python 3",
   "language": "python",
   "name": "python3"
  },
  "language_info": {
   "codemirror_mode": {
    "name": "ipython",
    "version": 3
   },
   "file_extension": ".py",
   "mimetype": "text/x-python",
   "name": "python",
   "nbconvert_exporter": "python",
   "pygments_lexer": "ipython3",
   "version": "3.8.5"
  }
 },
 "nbformat": 4,
 "nbformat_minor": 4
}
