{
 "cells": [
  {
   "cell_type": "code",
   "execution_count": 8,
   "metadata": {},
   "outputs": [
    {
     "name": "stdin",
     "output_type": "stream",
     "text": [
      "Enter width: 4\n",
      "Enter length: 3\n"
     ]
    },
    {
     "name": "stdout",
     "output_type": "stream",
     "text": [
      "12.0 m\n"
     ]
    }
   ],
   "source": [
    "#Q3\n",
    "width=input(\"Enter width:\")\n",
    "length=input(\"Enter length:\")\n",
    "x=float(width)\n",
    "y=float(length)\n",
    "print(x*y,'m')"
   ]
  },
  {
   "cell_type": "code",
   "execution_count": 10,
   "metadata": {},
   "outputs": [
    {
     "name": "stdin",
     "output_type": "stream",
     "text": [
      "Enter length of field (feet): 5\n",
      "Enter width of field (feet): 6\n"
     ]
    },
    {
     "name": "stdout",
     "output_type": "stream",
     "text": [
      "Area of the field is 0.0006887052341597796 acres\n"
     ]
    }
   ],
   "source": [
    "#Q4\n",
    "lenth=input(\"Enter length of field (feet):\")\n",
    "wi=input(\"Enter width of field (feet):\")\n",
    "a=int(lenth)\n",
    "b=int(wi)\n",
    "c= a*b\n",
    "d= c/43560\n",
    "print('Area of the field is', d, 'acres')"
   ]
  },
  {
   "cell_type": "code",
   "execution_count": 25,
   "metadata": {},
   "outputs": [
    {
     "name": "stdout",
     "output_type": "stream",
     "text": [
      "How many containers less than one litre or one litre do you have: 9\n",
      "How many containers more than one litre do you have: 8\n",
      "You will receive a refund of $ 2.9\n"
     ]
    }
   ],
   "source": [
    "#Q5\n",
    "lit1=float(input('How many containers less than one litre or one litre do you have: '))\n",
    "lit2=float(input('How many containers more than one litre do you have: '))\n",
    "refund= lit1 * 0.10 + lit2 * 0.25\n",
    "print('You will receive a refund of $', refund)"
   ]
  },
  {
   "cell_type": "code",
   "execution_count": 17,
   "metadata": {},
   "outputs": [
    {
     "name": "stdout",
     "output_type": "stream",
     "text": [
      "What is the cost of your meal? 950\n",
      "Your tax is 95.0 . Your tip is 171.0 . Your grand total cost therefore is 1216.0\n"
     ]
    }
   ],
   "source": [
    "#Q6\n",
    "cost=float(input('What is the cost of your meal? '))\n",
    "tax = cost * 0.1\n",
    "tip = cost * 0.18\n",
    "grand_total = cost + tax + tip\n",
    "print ('Your tax is', tax, '. Your tip is', tip, '. Your grand total cost therefore is', grand_total)"
   ]
  },
  {
   "cell_type": "code",
   "execution_count": 19,
   "metadata": {},
   "outputs": [
    {
     "name": "stdout",
     "output_type": "stream",
     "text": [
      "Enter a positive integer: 9\n",
      "The sum of the first 9 postive integers is 45.0\n"
     ]
    }
   ],
   "source": [
    "#Q7\n",
    "n=int(input('Enter a positive integer: '))\n",
    "f=n * (n+1) / 2\n",
    "print('The sum of the first', n, 'postive integers is', f)"
   ]
  },
  {
   "cell_type": "code",
   "execution_count": 15,
   "metadata": {},
   "outputs": [
    {
     "name": "stdout",
     "output_type": "stream",
     "text": [
      "How many widgets are you ordering? 5\n",
      "How many gizmos are you ordering? 6\n",
      "The total weight of your order is 1047\n"
     ]
    }
   ],
   "source": [
    "#Q8\n",
    "g=int(input('How many widgets are you ordering? '))\n",
    "h=int(input('How many gizmos are you ordering? '))\n",
    "widget = 75 * g\n",
    "gizmo = 112 * h\n",
    "t_w= widget + gizmo\n",
    "print('The total weight of your order is', t_w)"
   ]
  },
  {
   "cell_type": "code",
   "execution_count": 20,
   "metadata": {},
   "outputs": [
    {
     "name": "stdout",
     "output_type": "stream",
     "text": [
      "How much have you deposited into your account? 400\n",
      "After a year, the amount in your savings will be: 416.0\n",
      "After two years, the amount in your savings will be: 832.0\n",
      "After three years, the amount in your savings will be: 1248.0\n"
     ]
    }
   ],
   "source": [
    "#Q9\n",
    "deposit=int(input('How much have you deposited into your account? '))\n",
    "interest = (deposit * 0.04) + deposit\n",
    "interest2= interest*2\n",
    "interest3= interest*3\n",
    "print ('After a year, the amount in your savings will be:', interest)\n",
    "print ('After two years, the amount in your savings will be:', interest2)\n",
    "print ('After three years, the amount in your savings will be:', interest3)\n"
   ]
  },
  {
   "cell_type": "code",
   "execution_count": 29,
   "metadata": {},
   "outputs": [
    {
     "name": "stdout",
     "output_type": "stream",
     "text": [
      "Enter the value of integer a: 10\n",
      "Enter the value of integer b: 4\n",
      "The sum of a and b is 14\n",
      "The difference when b is subtracted from a is 6\n",
      "The product of a and b is 40\n",
      "The quotient when a is divided by b is 2.5\n",
      "The remainder when a is divided by b is 2\n",
      "The result of log10a is 1.0\n",
      "The result of a rasied to power of b is 10000\n"
     ]
    }
   ],
   "source": [
    "#Q10\n",
    "a=int(input('Enter the value of integer a: '))\n",
    "b=int(input('Enter the value of integer b: '))\n",
    "summ= a + b\n",
    "dif = a - b\n",
    "produit = a * b\n",
    "quot = a / b\n",
    "remain = a % b\n",
    "power = a ** b\n",
    "from math import log10\n",
    "\n",
    "print('The sum of a and b is', summ)\n",
    "print('The difference when b is subtracted from a is', dif)\n",
    "print('The product of a and b is', produit)\n",
    "print('The quotient when a is divided by b is', quot)\n",
    "print('The remainder when a is divided by b is', remain)\n",
    "print('The result of log10a is', log10(a))\n",
    "print('The result of a rasied to power of b is', power)"
   ]
  },
  {
   "cell_type": "code",
   "execution_count": null,
   "metadata": {},
   "outputs": [],
   "source": []
  }
 ],
 "metadata": {
  "kernelspec": {
   "display_name": "Python 3",
   "language": "python",
   "name": "python3"
  },
  "language_info": {
   "codemirror_mode": {
    "name": "ipython",
    "version": 3
   },
   "file_extension": ".py",
   "mimetype": "text/x-python",
   "name": "python",
   "nbconvert_exporter": "python",
   "pygments_lexer": "ipython3",
   "version": "3.8.5"
  }
 },
 "nbformat": 4,
 "nbformat_minor": 4
}
