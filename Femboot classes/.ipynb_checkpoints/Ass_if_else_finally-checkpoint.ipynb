{
 "cells": [
  {
   "cell_type": "code",
   "execution_count": 6,
   "metadata": {},
   "outputs": [
    {
     "name": "stdout",
     "output_type": "stream",
     "text": [
      "Your name here:faithful\n",
      "Welcome faithful\n",
      "Please enter a five-digit number:234\n",
      "You entered less than 5 digits\n",
      "Please enter a five-digit number:3456789\n",
      "You entered more than 5 digits\n",
      "Please enter a five-digit number:12345\n",
      "The answer to this game would be:212343\n"
     ]
    }
   ],
   "source": [
    "w=input('Your name here:')\n",
    "print ('Welcome' , w)\n",
    "\n",
    "while True:\n",
    "    z=input('Please enter a five-digit number:')\n",
    "    try:\n",
    "        iz=int(z)\n",
    "    except:\n",
    "        print('Invalid input')\n",
    "        continue\n",
    "    if len(z) == 5:\n",
    "        tot=(str(z))\n",
    "        inttot=int(tot)\n",
    "        y=inttot - 2\n",
    "        x= \"2\" + str(y)\n",
    "        print('The answer to this game would be:'+ str(x))\n",
    "        break\n",
    "    elif len(z) > 5:\n",
    "        print('You entered more than 5 digits')\n",
    "        continue\n",
    "    elif len(z) < 5:\n",
    "        print('You entered less than 5 digits')"
   ]
  },
  {
   "cell_type": "code",
   "execution_count": null,
   "metadata": {},
   "outputs": [],
   "source": []
  }
 ],
 "metadata": {
  "kernelspec": {
   "display_name": "Python 3",
   "language": "python",
   "name": "python3"
  },
  "language_info": {
   "codemirror_mode": {
    "name": "ipython",
    "version": 3
   },
   "file_extension": ".py",
   "mimetype": "text/x-python",
   "name": "python",
   "nbconvert_exporter": "python",
   "pygments_lexer": "ipython3",
   "version": "3.8.5"
  }
 },
 "nbformat": 4,
 "nbformat_minor": 4
}
