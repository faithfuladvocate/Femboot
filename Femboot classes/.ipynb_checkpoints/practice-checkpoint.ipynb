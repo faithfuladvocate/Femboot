{
 "cells": [
  {
   "cell_type": "code",
   "execution_count": 5,
   "metadata": {},
   "outputs": [],
   "source": [
    "#1st - 10.95, later - 2.95\n",
    "def no_of_items():\n",
    "    num=float(input('Enter number of items purchased:'))\n",
    "    more=num*2.95\n",
    "    if num == 1:\n",
    "        print('Your sales is 10.95')\n",
    "    else:\n",
    "        print(f'Your sales is {more}')\n",
    "    "
   ]
  },
  {
   "cell_type": "code",
   "execution_count": 8,
   "metadata": {},
   "outputs": [
    {
     "name": "stdout",
     "output_type": "stream",
     "text": [
      "Enter number of items purchased:1\n",
      "Your sales is 10.95\n"
     ]
    }
   ],
   "source": [
    "no_of_items()"
   ]
  },
  {
   "cell_type": "code",
   "execution_count": null,
   "metadata": {},
   "outputs": [],
   "source": []
  }
 ],
 "metadata": {
  "kernelspec": {
   "display_name": "Python 3",
   "language": "python",
   "name": "python3"
  },
  "language_info": {
   "codemirror_mode": {
    "name": "ipython",
    "version": 3
   },
   "file_extension": ".py",
   "mimetype": "text/x-python",
   "name": "python",
   "nbconvert_exporter": "python",
   "pygments_lexer": "ipython3",
   "version": "3.8.5"
  }
 },
 "nbformat": 4,
 "nbformat_minor": 4
}
