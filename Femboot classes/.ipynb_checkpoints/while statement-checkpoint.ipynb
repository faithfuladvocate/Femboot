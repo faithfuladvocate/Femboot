{
 "cells": [
  {
   "cell_type": "code",
   "execution_count": 1,
   "metadata": {},
   "outputs": [
    {
     "name": "stdout",
     "output_type": "stream",
     "text": [
      "True\n",
      "True\n",
      "True\n"
     ]
    }
   ],
   "source": [
    "x=12\n",
    "while x>2:\n",
    "    x=x/2\n",
    "    print('True')"
   ]
  },
  {
   "cell_type": "code",
   "execution_count": 3,
   "metadata": {},
   "outputs": [
    {
     "name": "stdout",
     "output_type": "stream",
     "text": [
      "Enter a number: 6\n",
      "Enter a number: 5\n",
      "Enter a number: 4\n",
      "Enter a number: -1\n",
      "[6.0, 5.0, 4.0, -1.0]\n"
     ]
    }
   ],
   "source": [
    "list=[]\n",
    "num=2\n",
    "while num>=0:\n",
    "    num = float(input('Enter a number: '))\n",
    "    list.append(num)\n",
    "list.pop()\n",
    "print(list)"
   ]
  },
  {
   "cell_type": "code",
   "execution_count": 12,
   "metadata": {},
   "outputs": [
    {
     "name": "stdout",
     "output_type": "stream",
     "text": [
      "Enter a number: 45\n",
      "Enter a number: 6\n",
      "Enter a number: 7\n",
      "Enter a number: -2\n",
      "[45.0, 6.0, 7.0]\n"
     ]
    }
   ],
   "source": [
    "list=[]\n",
    "while True:\n",
    "    num = float(input('Enter a number: '))\n",
    "    if num<0:\n",
    "        break\n",
    "    list.append(num)\n",
    "print(list)"
   ]
  },
  {
   "cell_type": "code",
   "execution_count": 18,
   "metadata": {},
   "outputs": [
    {
     "name": "stdout",
     "output_type": "stream",
     "text": [
      "Enter name: a\n",
      "Enter age: 12\n",
      "Enter name: b\n",
      "Enter age: 23\n",
      "Enter name: c\n",
      "Enter age: 45\n",
      "Enter name: d\n",
      "Enter age: 60\n",
      "Enter name: \n",
      "[['a', 30], ['b', 200], ['c', 250], ['d', 'free']]\n"
     ]
    }
   ],
   "source": [
    "#0-2==no bill,  3-12==$14,  65>==$18  others==$23  Q67\n",
    "#explanation 0-16==#30, 17-35==#200\n",
    "fee=[]\n",
    "while True:\n",
    "    name = input('Enter name: ')\n",
    "    if name.strip()=='': #if name==''\n",
    "        break\n",
    "    age=int(input('Enter age: '))\n",
    "    if age>=0 and age<=16:\n",
    "        fee.append([name,30])\n",
    "    elif age>=17 and age<=35:\n",
    "        fee.append([name,200])\n",
    "    elif age>=36 and age<=55:\n",
    "        fee.append([name, 250])\n",
    "    else:\n",
    "        fee.append([name, 'free'])\n",
    "print(fee)"
   ]
  },
  {
   "cell_type": "code",
   "execution_count": 30,
   "metadata": {},
   "outputs": [],
   "source": [
    "import random\n",
    "def acc_Num(start_char):\n",
    "    acc_no=start_char\n",
    "    for i in range(7):\n",
    "        d=random.randint(0,9)\n",
    "        acc_no=acc_no + str(d)\n",
    "    return(acc_no)"
   ]
  },
  {
   "cell_type": "code",
   "execution_count": 31,
   "metadata": {},
   "outputs": [
    {
     "data": {
      "text/plain": [
       "'6730143014'"
      ]
     },
     "execution_count": 31,
     "metadata": {},
     "output_type": "execute_result"
    }
   ],
   "source": [
    "acc_Num('673')"
   ]
  },
  {
   "cell_type": "code",
   "execution_count": 42,
   "metadata": {},
   "outputs": [],
   "source": [
    "def gen_pass(length):\n",
    "    password=''\n",
    "    for i in range (length):\n",
    "        d=random.choice(['1', '2', '3', ':', '.', ' ', 'a', 'b', '39'])\n",
    "        password=password + d\n",
    "    return password"
   ]
  },
  {
   "cell_type": "code",
   "execution_count": 43,
   "metadata": {},
   "outputs": [
    {
     "data": {
      "text/plain": [
       "'2 2a:31aa'"
      ]
     },
     "execution_count": 43,
     "metadata": {},
     "output_type": "execute_result"
    }
   ],
   "source": [
    "gen_pass(9)"
   ]
  },
  {
   "cell_type": "code",
   "execution_count": 44,
   "metadata": {},
   "outputs": [
    {
     "data": {
      "text/plain": [
       "'  3:'"
      ]
     },
     "execution_count": 44,
     "metadata": {},
     "output_type": "execute_result"
    }
   ],
   "source": [
    "gen_pass(4)"
   ]
  },
  {
   "cell_type": "code",
   "execution_count": null,
   "metadata": {},
   "outputs": [],
   "source": []
  }
 ],
 "metadata": {
  "kernelspec": {
   "display_name": "Python 3",
   "language": "python",
   "name": "python3"
  },
  "language_info": {
   "codemirror_mode": {
    "name": "ipython",
    "version": 3
   },
   "file_extension": ".py",
   "mimetype": "text/x-python",
   "name": "python",
   "nbconvert_exporter": "python",
   "pygments_lexer": "ipython3",
   "version": "3.8.5"
  }
 },
 "nbformat": 4,
 "nbformat_minor": 4
}
