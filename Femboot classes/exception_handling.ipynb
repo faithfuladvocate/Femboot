{
 "cells": [
  {
   "cell_type": "code",
   "execution_count": 3,
   "metadata": {},
   "outputs": [
    {
     "name": "stdout",
     "output_type": "stream",
     "text": [
      "Enter first number: 12\n",
      "Enter second number: 0\n",
      "b cannot be zero\n"
     ]
    }
   ],
   "source": [
    "a=int(input('Enter first number: '))\n",
    "b=int(input('Enter second number: '))\n",
    "if b==0:\n",
    "    print('b cannot be zero')\n",
    "else:\n",
    "    p=a/b\n",
    "    print(f'The value of p is {round(p,2)}')"
   ]
  },
  {
   "cell_type": "code",
   "execution_count": 6,
   "metadata": {},
   "outputs": [
    {
     "name": "stdout",
     "output_type": "stream",
     "text": [
      "Enter first number: 12\n",
      "Enter second number: 0\n",
      "Cannot divide by zero\n"
     ]
    }
   ],
   "source": [
    "try:\n",
    "    a=int(input('Enter first number: '))\n",
    "    b=int(input('Enter second number: '))\n",
    "    p=a/b\n",
    "    print(f'The value of p is {round(p,2)}')\n",
    "except ZeroDivisionError:\n",
    "    print('Cannot divide by zero')\n",
    "except ValueError:\n",
    "    print('Input put be whole number')"
   ]
  },
  {
   "cell_type": "code",
   "execution_count": 7,
   "metadata": {},
   "outputs": [
    {
     "name": "stdout",
     "output_type": "stream",
     "text": [
      "Enter first number: 12\n",
      "Enter second number: 3.6\n",
      "Input put be whole number\n"
     ]
    }
   ],
   "source": [
    "try:\n",
    "    a=int(input('Enter first number: '))\n",
    "    b=int(input('Enter second number: '))\n",
    "    p=a/b\n",
    "    print(f'The value of p is {round(p,2)}')\n",
    "except ZeroDivisionError:\n",
    "    print('Cannot divide by zero')\n",
    "except ValueError:\n",
    "    print('Input put be whole number')"
   ]
  },
  {
   "cell_type": "code",
   "execution_count": 8,
   "metadata": {},
   "outputs": [
    {
     "name": "stdout",
     "output_type": "stream",
     "text": [
      "Enter first number: 12\n",
      "Enter second number: -3\n",
      "The value of p is -4.0\n"
     ]
    }
   ],
   "source": [
    "try:\n",
    "    a=int(input('Enter first number: '))\n",
    "    b=int(input('Enter second number: '))\n",
    "    p=a/b\n",
    "    print(f'The value of p is {round(p,2)}')\n",
    "except ZeroDivisionError:\n",
    "    print('Cannot divide by zero')\n",
    "except ValueError:\n",
    "    print('Input put be whole number')\n",
    "except:\n",
    "    print('You lowered my IQ. I cannot run your code')"
   ]
  },
  {
   "cell_type": "code",
   "execution_count": null,
   "metadata": {},
   "outputs": [],
   "source": []
  }
 ],
 "metadata": {
  "kernelspec": {
   "display_name": "Python 3",
   "language": "python",
   "name": "python3"
  },
  "language_info": {
   "codemirror_mode": {
    "name": "ipython",
    "version": 3
   },
   "file_extension": ".py",
   "mimetype": "text/x-python",
   "name": "python",
   "nbconvert_exporter": "python",
   "pygments_lexer": "ipython3",
   "version": "3.8.5"
  }
 },
 "nbformat": 4,
 "nbformat_minor": 4
}
