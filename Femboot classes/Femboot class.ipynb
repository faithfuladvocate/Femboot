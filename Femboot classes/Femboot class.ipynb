{
 "cells": [
  {
   "cell_type": "code",
   "execution_count": 5,
   "metadata": {},
   "outputs": [
    {
     "data": {
      "text/plain": [
       "19"
      ]
     },
     "execution_count": 5,
     "metadata": {},
     "output_type": "execute_result"
    }
   ],
   "source": [
    "sent = \"   going well so far  \"\n",
    "sent1 = sent.strip()\n",
    "sent1.count('') + 1"
   ]
  },
  {
   "cell_type": "code",
   "execution_count": 12,
   "metadata": {},
   "outputs": [
    {
     "name": "stdout",
     "output_type": "stream",
     "text": [
      "Enter principal:425\n",
      "Enter rate: 5.6\n",
      "Enter time: 4\n",
      "95\n",
      "520\n"
     ]
    }
   ],
   "source": [
    "p=float(input('Enter principal:' ))\n",
    "r=float(input('Enter rate: '))\n",
    "t = float(input('Enter time: '))\n",
    "si = p* r * t / 100\n",
    "amount = p + si\n",
    "print(round(si))\n",
    "print(round(amount))"
   ]
  },
  {
   "cell_type": "code",
   "execution_count": 5,
   "metadata": {},
   "outputs": [
    {
     "data": {
      "text/plain": [
       "12"
      ]
     },
     "execution_count": 5,
     "metadata": {},
     "output_type": "execute_result"
    }
   ],
   "source": [
    "round(12.4)"
   ]
  },
  {
   "cell_type": "code",
   "execution_count": 6,
   "metadata": {},
   "outputs": [
    {
     "data": {
      "text/plain": [
       "-13"
      ]
     },
     "execution_count": 6,
     "metadata": {},
     "output_type": "execute_result"
    }
   ],
   "source": [
    "round(-12.67)"
   ]
  },
  {
   "cell_type": "code",
   "execution_count": 7,
   "metadata": {},
   "outputs": [
    {
     "data": {
      "text/plain": [
       "14"
      ]
     },
     "execution_count": 7,
     "metadata": {},
     "output_type": "execute_result"
    }
   ],
   "source": [
    "round(14.5)"
   ]
  },
  {
   "cell_type": "code",
   "execution_count": 8,
   "metadata": {},
   "outputs": [
    {
     "data": {
      "text/plain": [
       "12"
      ]
     },
     "execution_count": 8,
     "metadata": {},
     "output_type": "execute_result"
    }
   ],
   "source": [
    "round(12.5)"
   ]
  },
  {
   "cell_type": "code",
   "execution_count": 9,
   "metadata": {},
   "outputs": [
    {
     "data": {
      "text/plain": [
       "12.46"
      ]
     },
     "execution_count": 9,
     "metadata": {},
     "output_type": "execute_result"
    }
   ],
   "source": [
    "round(12.456,2)"
   ]
  },
  {
   "cell_type": "code",
   "execution_count": 13,
   "metadata": {},
   "outputs": [
    {
     "name": "stdout",
     "output_type": "stream",
     "text": [
      "Enter your age(in yrs): 2\n",
      "Minor\n"
     ]
    }
   ],
   "source": [
    "age= int(input('Enter your age(in yrs): '))\n",
    "if age>65:\n",
    "    print('Elder')\n",
    "elif age>=20:\n",
    "    print('Adult')\n",
    "elif age>=13:\n",
    "    print('Teenager')\n",
    "elif age>=0:\n",
    "    print('Minor')\n",
    "else:\n",
    "    print (\"Invalid entry\")"
   ]
  },
  {
   "cell_type": "code",
   "execution_count": 14,
   "metadata": {},
   "outputs": [
    {
     "ename": "SyntaxError",
     "evalue": "illegal target for annotation (<ipython-input-14-03f1dff9609f>, line 1)",
     "output_type": "error",
     "traceback": [
      "\u001b[1;36m  File \u001b[1;32m\"<ipython-input-14-03f1dff9609f>\"\u001b[1;36m, line \u001b[1;32m1\u001b[0m\n\u001b[1;33m    70-100:A\u001b[0m\n\u001b[1;37m    ^\u001b[0m\n\u001b[1;31mSyntaxError\u001b[0m\u001b[1;31m:\u001b[0m illegal target for annotation\n"
     ]
    }
   ],
   "source": [
    "70-100:A\n",
    "60-69:B\n",
    "50-59:C\n",
    "45-49:D\n",
    "40-44:E\n",
    "0-39:F"
   ]
  },
  {
   "cell_type": "code",
   "execution_count": 23,
   "metadata": {},
   "outputs": [
    {
     "name": "stdout",
     "output_type": "stream",
     "text": [
      "Enter a number: 15\n",
      "Fissbuzz\n"
     ]
    }
   ],
   "source": [
    "num=int(input('Enter a number: '))\n",
    "if num % 15 ==0:\n",
    "    print ('Fissbuzz') \n",
    "elif num % 3 == 0:\n",
    "    print ('Fiss')\n",
    "elif num % 5 ==0:\n",
    "    print ('Buzz')\n",
    "else:\n",
    "    print(num)"
   ]
  },
  {
   "cell_type": "code",
   "execution_count": 28,
   "metadata": {},
   "outputs": [
    {
     "name": "stdout",
     "output_type": "stream",
     "text": [
      "Enter a number: 30\n",
      "Fissbuzz\n"
     ]
    }
   ],
   "source": [
    "num=int(input('Enter a number: '))\n",
    "if num % 3 == 0 and num % 5 !=0:\n",
    "    print ('Fiss')\n",
    "elif num % 5 ==0 and num%3!=0:\n",
    "    print ('Buzz')\n",
    "elif num % 15 ==0:\n",
    "    print ('Fissbuzz') \n",
    "else:\n",
    "    print(num)"
   ]
  },
  {
   "cell_type": "code",
   "execution_count": 1,
   "metadata": {},
   "outputs": [
    {
     "name": "stdout",
     "output_type": "stream",
     "text": [
      "hello\n",
      "hello\n",
      "hello\n",
      "hello\n",
      "hello\n",
      "hello\n",
      "hello\n",
      "hello\n",
      "hello\n",
      "hello\n"
     ]
    }
   ],
   "source": [
    "for i in range(10):\n",
    "    print('hello')"
   ]
  },
  {
   "cell_type": "code",
   "execution_count": 2,
   "metadata": {},
   "outputs": [],
   "source": [
    "def salaryInc():\n",
    "    for i in range(4):\n",
    "        salary=float(input('Enter salary: '))\n",
    "        if salary>=10000:\n",
    "            print((0.1 * salary) + salary)\n",
    "        else:\n",
    "            print(1.05* salary)"
   ]
  },
  {
   "cell_type": "code",
   "execution_count": 3,
   "metadata": {},
   "outputs": [
    {
     "name": "stdout",
     "output_type": "stream",
     "text": [
      "Enter salary: 10000\n",
      "11000.0\n",
      "Enter salary: 12000\n",
      "13200.0\n",
      "Enter salary: 7000\n",
      "7350.0\n",
      "Enter salary: 2000\n",
      "2100.0\n"
     ]
    }
   ],
   "source": [
    "salaryInc()"
   ]
  },
  {
   "cell_type": "code",
   "execution_count": 6,
   "metadata": {},
   "outputs": [],
   "source": [
    "def salaryInc(n):\n",
    "    for i in range(n):\n",
    "        salary=float(input('Enter salary: '))\n",
    "        if salary>=10000:\n",
    "            print((0.1 * salary) + salary)\n",
    "        else:\n",
    "            print(1.05* salary)"
   ]
  },
  {
   "cell_type": "code",
   "execution_count": 7,
   "metadata": {},
   "outputs": [
    {
     "name": "stdout",
     "output_type": "stream",
     "text": [
      "Enter salary: 90900\n",
      "99990.0\n",
      "Enter salary: 86000\n",
      "94600.0\n",
      "Enter salary: 23500\n",
      "25850.0\n"
     ]
    }
   ],
   "source": [
    "salaryInc(3)"
   ]
  },
  {
   "cell_type": "code",
   "execution_count": null,
   "metadata": {},
   "outputs": [],
   "source": []
  }
 ],
 "metadata": {
  "kernelspec": {
   "display_name": "Python 3",
   "language": "python",
   "name": "python3"
  },
  "language_info": {
   "codemirror_mode": {
    "name": "ipython",
    "version": 3
   },
   "file_extension": ".py",
   "mimetype": "text/x-python",
   "name": "python",
   "nbconvert_exporter": "python",
   "pygments_lexer": "ipython3",
   "version": "3.8.5"
  }
 },
 "nbformat": 4,
 "nbformat_minor": 4
}
